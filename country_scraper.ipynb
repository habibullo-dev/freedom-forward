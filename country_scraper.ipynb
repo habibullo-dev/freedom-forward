{
 "cells": [
  {
   "cell_type": "code",
   "execution_count": null,
   "metadata": {},
   "outputs": [],
   "source": [
    "import requests\n",
    "import selenium\n",
    "import pandas as pd\n",
    "from time import sleep\n",
    "from bs4 import BeautifulSoup\n",
    "import undetected_chromedriver as uc\n",
    "from concurrent.futures import ThreadPoolExecutor"
   ]
  },
  {
   "cell_type": "code",
   "execution_count": null,
   "metadata": {},
   "outputs": [],
   "source": [
    "# Cleaning the data\n",
    "\n",
    "# data = pd.read_excel(\"./Countries-List.xlsx\")\n",
    "\n",
    "\n",
    "# countries = data[\"country_name\"]\n",
    "# brand_names = data[\"brand_names\"]\n",
    "# companies = data[\"company_names\"]\n",
    "# brand_names.dropna(inplace=True)\n",
    "# brand_names"
   ]
  },
  {
   "cell_type": "code",
   "execution_count": null,
   "metadata": {},
   "outputs": [],
   "source": [
    "def download_image(country):\n",
    "    response = requests.get(f'https://en.wikipedia.org/wiki/{country}', cookies=cookies, headers=headers)\n",
    "    \n",
    "    if response.status_code == 200:\n",
    "        soup = BeautifulSoup(response.text, \"html.parser\")\n",
    "        try:\n",
    "          image_link = f'https:{soup.find(\"a\", class_=\"mw-file-description\").img[\"src\"]}'\n",
    "          image_description = soup.find(\"a\", class_=\"mw-file-description\")[\"title\"]\n",
    "          \n",
    "          # Download image\n",
    "          image_response = requests.get(image_link) \n",
    "          with open(f'./images/{country}.png', 'wb') as f:\n",
    "              f.write(image_response.content)\n",
    "              \n",
    "          print(f\"Downloaded {country} image: {image_description}\")\n",
    "        except:\n",
    "            print(f\"{country} failed...\")\n",
    "\n",
    "# Create a ThreadPoolExecutor with a specified number of threads\n",
    "with ThreadPoolExecutor(max_workers=5) as executor:\n",
    "    futures = [executor.submit(download_image, country) for country in countries]\n",
    "\n",
    "# Wait for all tasks to complete\n",
    "for future in futures:\n",
    "    future.result()\n",
    "\n",
    "print(\"All downloads completed.\")"
   ]
  }
 ],
 "metadata": {
  "language_info": {
   "name": "python"
  }
 },
 "nbformat": 4,
 "nbformat_minor": 2
}
